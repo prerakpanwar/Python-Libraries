{
 "cells": [
  {
   "cell_type": "code",
   "execution_count": 1,
   "id": "aaace699",
   "metadata": {},
   "outputs": [
    {
     "name": "stdout",
     "output_type": "stream",
     "text": [
      "{'name': 'Prerak', 'age': 25, 'city': 'Dehradun'}\n"
     ]
    }
   ],
   "source": [
    "#Mutable, but keys must be immutable objects like ints,strings,tuples but values can be anything.\n",
    "\n",
    "my_dict = {'name': 'Prerak',\n",
    "           'age': 25,\n",
    "           'city': 'Dehradun'\n",
    "          }\n",
    "print(my_dict)"
   ]
  },
  {
   "cell_type": "code",
   "execution_count": 2,
   "id": "4e9e8763",
   "metadata": {},
   "outputs": [
    {
     "data": {
      "text/plain": [
       "'Prerak'"
      ]
     },
     "execution_count": 2,
     "metadata": {},
     "output_type": "execute_result"
    }
   ],
   "source": [
    "#indexing using keys rather than numeric indexes\n",
    "my_dict['name']"
   ]
  },
  {
   "cell_type": "code",
   "execution_count": 4,
   "id": "e1403aa2",
   "metadata": {},
   "outputs": [
    {
     "name": "stdout",
     "output_type": "stream",
     "text": [
      "{'name': 'Prerak', 'age': 25, 'city': 'Dehradun', 'state': 'Uttarakhand'}\n"
     ]
    }
   ],
   "source": [
    "#adding in a dict\n",
    "my_dict['state'] = 'Uttarakhand'\n",
    "print (my_dict)"
   ]
  },
  {
   "cell_type": "code",
   "execution_count": 5,
   "id": "5d28e91e",
   "metadata": {},
   "outputs": [
    {
     "name": "stdout",
     "output_type": "stream",
     "text": [
      "{'name': 'Prerak', 'age': 25, 'city': 'Dehradun'}\n"
     ]
    }
   ],
   "source": [
    "del my_dict['state']\n",
    "print (my_dict)"
   ]
  },
  {
   "cell_type": "code",
   "execution_count": 12,
   "id": "21dfb882",
   "metadata": {
    "scrolled": true
   },
   "outputs": [
    {
     "name": "stdout",
     "output_type": "stream",
     "text": [
      "panwar\n"
     ]
    }
   ],
   "source": [
    "#if dict don't have name key then it will print panwar\n",
    "my_dict2 = {\n",
    "           'age': 25,\n",
    "           'city': 'Dehradun'\n",
    "          }\n",
    "print(my_dict2.get('name','panwar'))"
   ]
  },
  {
   "cell_type": "code",
   "execution_count": 13,
   "id": "189457fe",
   "metadata": {},
   "outputs": [
    {
     "data": {
      "text/plain": [
       "3"
      ]
     },
     "execution_count": 13,
     "metadata": {},
     "output_type": "execute_result"
    }
   ],
   "source": [
    "len(my_dict)"
   ]
  },
  {
   "cell_type": "code",
   "execution_count": 17,
   "id": "38cd3fd7",
   "metadata": {},
   "outputs": [
    {
     "data": {
      "text/plain": [
       "True"
      ]
     },
     "execution_count": 17,
     "metadata": {},
     "output_type": "execute_result"
    }
   ],
   "source": [
    "#in only takes keys\n",
    "'name' in my_dict"
   ]
  },
  {
   "cell_type": "code",
   "execution_count": 19,
   "id": "f129e328",
   "metadata": {},
   "outputs": [
    {
     "data": {
      "text/plain": [
       "True"
      ]
     },
     "execution_count": 19,
     "metadata": {},
     "output_type": "execute_result"
    }
   ],
   "source": [
    "#if you want to check for a value in a dict\n",
    "'Prerak' in my_dict.values()"
   ]
  },
  {
   "cell_type": "markdown",
   "id": "6d3c2c18",
   "metadata": {},
   "source": [
    "SETS : Unordered,don't have dublicates,mutable, no index"
   ]
  },
  {
   "cell_type": "code",
   "execution_count": 20,
   "id": "096d3c3f",
   "metadata": {},
   "outputs": [
    {
     "data": {
      "text/plain": [
       "set"
      ]
     },
     "execution_count": 20,
     "metadata": {},
     "output_type": "execute_result"
    }
   ],
   "source": [
    "my_set = {1,2,3,4,5,6}\n",
    "type(my_set)"
   ]
  },
  {
   "cell_type": "code",
   "execution_count": 22,
   "id": "c8d66ab9",
   "metadata": {},
   "outputs": [
    {
     "name": "stdout",
     "output_type": "stream",
     "text": [
      "{1, 2, 3, 4, 5, 6, 7}\n"
     ]
    }
   ],
   "source": [
    "# add\n",
    "my_set.add(7)\n",
    "print(my_set)"
   ]
  },
  {
   "cell_type": "code",
   "execution_count": 23,
   "id": "022c081a",
   "metadata": {},
   "outputs": [
    {
     "name": "stdout",
     "output_type": "stream",
     "text": [
      "{1, 2, 3, 4, 5, 6}\n"
     ]
    }
   ],
   "source": [
    "#remove\n",
    "my_set.remove(7)\n",
    "print(my_set)"
   ]
  },
  {
   "cell_type": "code",
   "execution_count": 25,
   "id": "7ee9bb5f",
   "metadata": {},
   "outputs": [
    {
     "data": {
      "text/plain": [
       "{1, 2, 3, 4, 5, 6, 7, 8, 9}"
      ]
     },
     "execution_count": 25,
     "metadata": {},
     "output_type": "execute_result"
    }
   ],
   "source": [
    "my_set2 = {5,6,7,8,9}\n",
    "my_set | my_set2 #my_set.union(my_set2)"
   ]
  },
  {
   "cell_type": "code",
   "execution_count": 26,
   "id": "73cbc022",
   "metadata": {},
   "outputs": [
    {
     "data": {
      "text/plain": [
       "{5, 6}"
      ]
     },
     "execution_count": 26,
     "metadata": {},
     "output_type": "execute_result"
    }
   ],
   "source": [
    "my_set & my_set2 #my_set.intersection(my_set2)"
   ]
  },
  {
   "cell_type": "code",
   "execution_count": 27,
   "id": "c1991183",
   "metadata": {},
   "outputs": [
    {
     "data": {
      "text/plain": [
       "{1, 2, 3, 4}"
      ]
     },
     "execution_count": 27,
     "metadata": {},
     "output_type": "execute_result"
    }
   ],
   "source": [
    "my_set.difference(my_set2)"
   ]
  },
  {
   "cell_type": "code",
   "execution_count": 28,
   "id": "3f95093d",
   "metadata": {},
   "outputs": [
    {
     "data": {
      "text/plain": [
       "{7, 8, 9}"
      ]
     },
     "execution_count": 28,
     "metadata": {},
     "output_type": "execute_result"
    }
   ],
   "source": [
    "my_set2.difference(my_set)"
   ]
  },
  {
   "cell_type": "code",
   "execution_count": 30,
   "id": "2e66b359",
   "metadata": {},
   "outputs": [
    {
     "data": {
      "text/plain": [
       "False"
      ]
     },
     "execution_count": 30,
     "metadata": {},
     "output_type": "execute_result"
    }
   ],
   "source": [
    "my_set.issubset(my_set2)"
   ]
  },
  {
   "cell_type": "code",
   "execution_count": 31,
   "id": "15cbd52d",
   "metadata": {},
   "outputs": [
    {
     "data": {
      "text/plain": [
       "True"
      ]
     },
     "execution_count": 31,
     "metadata": {},
     "output_type": "execute_result"
    }
   ],
   "source": [
    "{5,6}.issubset(my_set2)"
   ]
  },
  {
   "cell_type": "code",
   "execution_count": 33,
   "id": "2a1c96bb",
   "metadata": {},
   "outputs": [
    {
     "data": {
      "text/plain": [
       "[1, 2, 3, 4, 5, 6, 7, 8, 9, 10]"
      ]
     },
     "execution_count": 33,
     "metadata": {},
     "output_type": "execute_result"
    }
   ],
   "source": [
    "#removing dublicates from a list\n",
    "my_list = [1,2,3,4,4,5,5,6,7,7,8,9,10]\n",
    "list(set(my_list))"
   ]
  },
  {
   "cell_type": "code",
   "execution_count": null,
   "id": "ae6d4542",
   "metadata": {},
   "outputs": [],
   "source": []
  }
 ],
 "metadata": {
  "kernelspec": {
   "display_name": "Python 3 (ipykernel)",
   "language": "python",
   "name": "python3"
  },
  "language_info": {
   "codemirror_mode": {
    "name": "ipython",
    "version": 3
   },
   "file_extension": ".py",
   "mimetype": "text/x-python",
   "name": "python",
   "nbconvert_exporter": "python",
   "pygments_lexer": "ipython3",
   "version": "3.9.13"
  }
 },
 "nbformat": 4,
 "nbformat_minor": 5
}
